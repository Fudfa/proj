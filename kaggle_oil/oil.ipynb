{
 "cells": [
  {
   "cell_type": "code",
   "execution_count": null,
   "metadata": {},
   "outputs": [],
   "source": [
    "import pandas as pd\n",
    "\n",
    "train = pd.read_csv(\"train_oil.csv\")\n",
    "\n",
    "test = pd.read_csv(\"oil_test.csv\")"
   ]
  },
  {
   "cell_type": "code",
   "execution_count": null,
   "metadata": {},
   "outputs": [],
   "source": [
    "import numpy as np"
   ]
  },
  {
   "cell_type": "code",
   "execution_count": null,
   "metadata": {},
   "outputs": [],
   "source": [
    "cat_features = ['Field name', 'Reservoir unit','Country','Region','Basin name','Operator company','Hydrocarbon type','Reservoir status','Structural setting','Reservoir period','Lithology','random_cat']\n",
    "train=train.drop('Tectonic regime',axis=1, errors='ignore')\n",
    "test=test.drop('Tectonic regime',axis=1, errors='ignore')\n",
    "train['random_int'] = np.random.randint(-20, 200, train.shape[0]) # Целочисленный признак\n",
    "train['random_num'] = np.random.random(size = train.shape[0]) # Признак типа float с равномерным распределением\n",
    "train['random_norm'] = np.random.normal(loc = 4, scale = 1.5, size = train.shape[0]) # Признак с нормальным распределением\n",
    "train['random_cat'] = np.random.choice(['A', 'B', 'C', 'D'], p = [0.20, 0.3, 0.45, 0.05], size = train.shape[0]) # Категориальный признак str формата с дисбалансом\n",
    "train['random_ord'] = np.random.choice([1, 10, 100, 1000], p = [0.40, 0.3, 0.2, 0.1], size = train.shape[0]) # Численный категориальный признак\n",
    "\n",
    "test['random_int'] = np.random.randint(-20, 200, test.shape[0]) # Целочисленный признак\n",
    "test['random_num'] = np.random.random(size = test.shape[0]) # Признак типа float с равномерным распределением\n",
    "test['random_norm'] = np.random.normal(loc = 4, scale = 1.5, size = test.shape[0]) # Признак с нормальным распределением\n",
    "test['random_cat'] = np.random.choice(['A', 'B', 'C', 'D'], p = [0.20, 0.3, 0.45, 0.05], size = test.shape[0]) # Категориальный признак str формата с дисбалансом\n",
    "test['random_ord'] = np.random.choice([1, 10, 100, 1000], p = [0.40, 0.3, 0.2, 0.1], size = test.shape[0]) # Численный категориальный признак\n",
    "\n",
    "#train = pd.get_dummies(train, columns=cat_features)\n",
    "#test = pd.get_dummies(test, columns=cat_features)\n",
    "train[cat_features] = train[cat_features].astype(str)\n",
    "test[cat_features] = test[cat_features].astype(str)"
   ]
  },
  {
   "cell_type": "code",
   "execution_count": null,
   "metadata": {},
   "outputs": [],
   "source": [
    "from catboost import CatBoostClassifier\n",
    "from sklearn.model_selection import train_test_split\n",
    "from sklearn.metrics import accuracy_score\n",
    "\n",
    "X = train.drop('Onshore/Offshore', axis=1, errors='ignore')\n",
    "y = train['Onshore/Offshore']\n",
    "\n",
    "X_train, X_test, y_train, y_test = train_test_split(X, y, test_size=0.2, random_state=42)\n",
    "\n",
    "clf = CatBoostClassifier(cat_features=cat_features)\n",
    "\n",
    "\n",
    "clf.fit(X_train, y_train, \n",
    "          eval_set=(X_test, y_test),\n",
    "          verbose=150, plot=False)"
   ]
  },
  {
   "cell_type": "code",
   "execution_count": null,
   "metadata": {},
   "outputs": [],
   "source": [
    "y_pred = clf.predict(X_test)\n",
    "print(f'\\n Accuracy: {accuracy_score(y_test, y_pred)}')"
   ]
  },
  {
   "cell_type": "code",
   "execution_count": null,
   "metadata": {},
   "outputs": [],
   "source": [
    "fi = clf.get_feature_importance(prettified=True)\n",
    "fi"
   ]
  },
  {
   "cell_type": "code",
   "execution_count": null,
   "metadata": {},
   "outputs": [],
   "source": [
    "y_pred"
   ]
  },
  {
   "cell_type": "code",
   "execution_count": null,
   "metadata": {},
   "outputs": [],
   "source": [
    "# инференс модели\n",
    "pred = clf.predict(test)\n",
    "df = pd.DataFrame(data=y_pred)\n",
    "pred=df.to_csv('cf.csv')"
   ]
  },
  {
   "cell_type": "code",
   "execution_count": null,
   "metadata": {},
   "outputs": [],
   "source": [
    "df=pd.read_csv('cf.csv')\n",
    "df"
   ]
  }
 ],
 "metadata": {
  "language_info": {
   "name": "python"
  }
 },
 "nbformat": 4,
 "nbformat_minor": 2
}
